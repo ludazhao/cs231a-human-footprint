{
 "cells": [
  {
   "cell_type": "code",
   "execution_count": null,
   "metadata": {
    "collapsed": true
   },
   "outputs": [],
   "source": [
    "import numpy \n",
    "\n",
    "dpoints = np.array([['primary', 'svm',0.9660],\n",
    "           ['primary', 'cnn-3', 0.9864],\n",
    "           ['primary', 'cnn-5',    0.9876],\n",
    "           ['agriculture', 'svm', 0.3865],\n",
    "           ['agriculture', 'cnn-3', 0.8128],\n",
    "           ['agriculture', 'cnn-5', 0.8357],\n",
    "           ['random', 'knn', 10.32],\n",
    "           ['random', 'cnn-3', 31.46],\n",
    "           ['random', 'cnn-5', 18.16]])"
   ]
  },
  {
   "cell_type": "code",
   "execution_count": null,
   "metadata": {
    "collapsed": true
   },
   "outputs": [],
   "source": [
    "import matplotlib.pyplot as plt\n",
    "\n",
    "fig = plt.figure()\n",
    "ax = fig.add_subplot(111)\n",
    "\n",
    "space = 0.3\n",
    "\n",
    "conditions = np.unique(dpoints[:,0])\n",
    "categories = np.unique(dpoints[:,1])\n",
    "\n",
    "n = len(conditions)\n",
    "\n",
    "width = (1 - space) / (len(conditions))\n",
    "print \"width:\", width\n",
    "\n",
    "for i,cond in enumerate(conditions):\n",
    "    print \"cond:\", cond\n",
    "    vals = dpoints[dpoints[:,0] == cond][:,2].astype(np.float)\n",
    "    pos = [j - (1 - space) / 2. + i * width for j in range(1,len(categories)+1)]\n",
    "    ax.bar(pos, vals, width=width)"
   ]
  }
 ],
 "metadata": {
  "kernelspec": {
   "display_name": "Python 2",
   "language": "python",
   "name": "python2"
  },
  "language_info": {
   "codemirror_mode": {
    "name": "ipython",
    "version": 2
   },
   "file_extension": ".py",
   "mimetype": "text/x-python",
   "name": "python",
   "nbconvert_exporter": "python",
   "pygments_lexer": "ipython2",
   "version": "2.7.12"
  }
 },
 "nbformat": 4,
 "nbformat_minor": 0
}
