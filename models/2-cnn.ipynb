{
 "cells": [
  {
   "cell_type": "markdown",
   "metadata": {},
   "source": [
    "# ConvNet model\n",
    "\n",
    "Building a simple ConvNet model for multi-label classification using Keras(Luda)\n",
    "\n",
    "Adapted from \"Simple Keras Starter\" Kernel from anokas on Kaggle\n"
   ]
  },
  {
   "cell_type": "code",
   "execution_count": 33,
   "metadata": {
    "collapsed": false
   },
   "outputs": [
    {
     "name": "stdout",
     "output_type": "stream",
     "text": [
      "Populating the interactive namespace from numpy and matplotlib\n"
     ]
    }
   ],
   "source": [
    "import numpy as np # linear algebra\n",
    "import pandas as pd # data processing, CSV file I/O (e.g. pd.read_csv)\n",
    "import os\n",
    "import gc\n",
    "\n",
    "import keras as k\n",
    "from keras.models import Sequential\n",
    "from keras.layers import Dense, Dropout, Flatten\n",
    "from keras.layers import Conv2D, MaxPooling2D\n",
    "\n",
    "from tensorflow.contrib.keras.api.keras.models import Sequential\n",
    "from tensorflow.contrib.keras.api.keras.layers import Dense, Dropout, Flatten\n",
    "from tensorflow.contrib.keras.api.keras.layers import Conv2D, MaxPooling2D, BatchNormalization\n",
    "\n",
    "from sklearn.multiclass import OneVsRestClassifier\n",
    "from sklearn.linear_model import LogisticRegression\n",
    "from sklearn.model_selection import GridSearchCV, train_test_split, KFold\n",
    "from sklearn.preprocessing import MultiLabelBinarizer, MinMaxScaler\n",
    "from sklearn.metrics import fbeta_score, precision_score, recall_score, make_scorer, average_precision_score\n",
    "import matplotlib.pyplot as plt\n",
    "import cv2\n",
    "import warnings\n",
    "\n",
    "%pylab inline\n",
    "pylab.rcParams['figure.figsize'] = (15, 10)\n",
    "\n",
    "\n",
    "import cv2\n",
    "from tqdm import tqdm"
   ]
  },
  {
   "cell_type": "code",
   "execution_count": 3,
   "metadata": {
    "collapsed": false
   },
   "outputs": [],
   "source": [
    "# General functions from 0-baseline notebook\n",
    "\n",
    "# Preprocess images\n",
    "# Input: number of samples, dim, path\n",
    "# Output: X, y, list of class names\n",
    "def preprocess(n_samples, rescaled_dim, f_path =\"../data/train.csv\"):\n",
    "    df = pd.read_csv(f_path)\n",
    "    df['split_tags'] = df['tags'].map(lambda row: row.split(\" \"))\n",
    "    lb = MultiLabelBinarizer()\n",
    "    y = lb.fit_transform(df['split_tags'])\n",
    "    y = y[:n_samples]\n",
    "    \n",
    "    imgs = []\n",
    "    # for each image, rescale to same dimension and flattern\n",
    "    print \"processing images...\"\n",
    "    count = 0\n",
    "    for name in df.head(n_samples)['image_name'].values:\n",
    "        raw_img = plt.imread('../data/train-jpg/{}.jpg'.format(name))\n",
    "        #print raw_img\n",
    "        imgs.append(cv2.resize(raw_img, (rescaled_dim, rescaled_dim), cv2.INTER_LINEAR).reshape(1, -1))\n",
    "        count+=1\n",
    "        if count % 1000 == 0:\n",
    "            print count, \"processed\"\n",
    "\n",
    "    # remove dimenions    \n",
    "    X = np.squeeze(np.array(imgs))\n",
    "\n",
    "    # scale X so that each feature be between 0 and 1\n",
    "    X = MinMaxScaler().fit_transform(np.float32(X))\n",
    "    \n",
    "    return np.array(X, np.float16), np.array(y, np.uint8), lb.classes_\n",
    "\n",
    "\n",
    "def optimize_threshold(X_test, y_test, model):\n",
    "    prediction = model.predict(X_test)\n",
    "    true_label = y_test\n",
    "    best_threshhold = [0.2]*17    \n",
    "    for t in range(17):\n",
    "        best_fbeta = 0\n",
    "        temp_threshhold = [0.2]*17\n",
    "        for i in range(100):\n",
    "            temp_value = i / float(100)\n",
    "            temp_threshhold[t] = temp_value\n",
    "            temp_fbeta = fbeta_score(true_label, prediction > temp_threshhold, beta=2, average=\"samples\")\n",
    "            if temp_fbeta > best_fbeta:\n",
    "                best_fbeta = temp_fbeta\n",
    "                best_threshhold[t] = temp_value\n",
    "    return best_threshhold\n",
    "\n",
    "\n",
    "# Using a trained model, calculate the F2_score\n",
    "# input: X_test, y_test, model\n",
    "# output: a list of F2_score by class(length 17)\n",
    "def calc_F2_score_cnn(X_test, y_test, model, thres = 0.2, avg_mode = None, opt = False):\n",
    "    if opt:\n",
    "        print \"Optimizing threshold...\"\n",
    "        thres = optimize_threshold(X_test, y_test, model)\n",
    "        print \"Using optimized threshold: \", thres\n",
    "    predicted = np.array(model.predict(X_test)) > thres\n",
    "    score = fbeta_score(y_test, predicted, beta=2, average=avg_mode)\n",
    "    return score\n",
    "\n",
    "def calc_precision_cnn(X_test, y_test, model, thres = 0.2, avg_mode = None, opt = False):\n",
    "    if opt:\n",
    "        print \"Optimizing threshold...\"\n",
    "        thres = optimize_threshold(X_test, y_test, model)\n",
    "        print \"Using optimized threshold: \", thres\n",
    "    predicted = np.array(model.predict(X_test)) > thres\n",
    "    score = precision_score(y_test, predicted, average=avg_mode)\n",
    "    return score\n",
    "\n",
    "def calc_recall_cnn(X_test, y_test, model, thres = 0.2, avg_mode = None, opt = False):\n",
    "    if opt:\n",
    "        print \"Optimizing threshold...\"\n",
    "        thres = optimize_threshold(X_test, y_test, model)\n",
    "        print \"Using optimized threshold: \", thres\n",
    "    predicted = np.array(model.predict(X_test)) > thres\n",
    "    score = recall_score(y_test, predicted, average=avg_mode)\n",
    "    return score\n",
    "\n",
    "    \n",
    "def print_results(scores, ind_to_classes):\n",
    "    # print the scores with the classes\n",
    "    results = [(ind_to_classes[l], scores[l]) for l in scores.argsort()[::-1]]\n",
    "    print \"************************RESULTS************************\"\n",
    "    for res in results:\n",
    "        print res[0], res[1]\n",
    "    print \"************************END RESULTS************************\"\n",
    "    \n",
    "# define cross validation\n",
    "# if fold = 1 just use a 20% test set\n",
    "# Training model func: need to take in X_train, y_train, and initial model(if necessary)\n",
    "def cross_validation_train_score(X, y, train_model_func, scoring_func, folds=10):\n",
    "\n",
    "    if folds == 1:\n",
    "        print \"Using a 20% test set...\"\n",
    "        print \"X shape:\", X.shape\n",
    "        print \"y shape:\", y.shape\n",
    "        \n",
    "        X_train, X_test, y_train, y_test = train_test_split(X, y, test_size=0.20, random_state=0)\n",
    "        model = train_model_func(X_train, y_train)\n",
    "        score = scoring_func(X_test, y_test, model)\n",
    "        return model, np.array(score)\n",
    "\n",
    "    print \"Using cross validation with folds\", folds\n",
    "    print \"X shape:\", X.shape\n",
    "    print \"y shape:\", y.shape    \n",
    "    kf = KFold(n_splits=folds, shuffle=True)\n",
    "    scores_all = []\n",
    "    for ind, (train, test) in enumerate(kf.split(X)):\n",
    "        print \"Fold \", ind\n",
    "        X_train, X_test, y_train, y_test = X[train], X[test], y[train], y[test]\n",
    "\n",
    "        model = train_model_func(X_train, y_train)\n",
    "        score = scoring_func(X_test, y_test, model)\n",
    "        scores_all.append(score)\n",
    "        \n",
    "    return model, np.mean(np.array(scores_all), axis=0), None"
   ]
  },
  {
   "cell_type": "code",
   "execution_count": 4,
   "metadata": {
    "collapsed": true
   },
   "outputs": [],
   "source": [
    "# CNN specific preprocessing function, creating 4 dimensional input vectors\n",
    "def preprocess_cnn(n_samples, rescaled_dim, f_path =\"../data/train.csv\"):\n",
    "    df = pd.read_csv(f_path)\n",
    "    df['split_tags'] = df['tags'].map(lambda row: row.split(\" \"))\n",
    "    lb = MultiLabelBinarizer()\n",
    "    y = lb.fit_transform(df['split_tags'])\n",
    "    y = y[:n_samples]\n",
    "    \n",
    "    imgs = []\n",
    "    # for each image, rescale to same dimension and flattern\n",
    "    print \"processing images...\"\n",
    "    count = 0\n",
    "    for name in df.head(n_samples)['image_name'].values:\n",
    "        raw_img = plt.imread('../data/train-jpg/{}.jpg'.format(name))\n",
    "        #print raw_img\n",
    "        imgs.append(cv2.resize(raw_img, (rescaled_dim, rescaled_dim), cv2.INTER_LINEAR)[:, :, :3])\n",
    "        count+=1\n",
    "        if count % 1000 == 0:\n",
    "            print count, \"processed\"\n",
    "\n",
    "    # remove dimenions, normalize  \n",
    "    X = np.squeeze(np.array(imgs)) / 255.\n",
    "\n",
    "    return np.array(X, np.float16), np.array(y, np.uint8), lb.classes_\n",
    "\n"
   ]
  },
  {
   "cell_type": "markdown",
   "metadata": {},
   "source": [
    "# Define model architecture"
   ]
  },
  {
   "cell_type": "code",
   "execution_count": 9,
   "metadata": {
    "collapsed": true
   },
   "outputs": [],
   "source": [
    "def train_cnn_model_1(x_train, y_train):\n",
    "    model = Sequential()\n",
    "    model.add(Conv2D(32, kernel_size=(3, 3),\n",
    "                     activation='relu',\n",
    "                     input_shape=(32, 32, 3)))\n",
    "\n",
    "    model.add(Conv2D(64, (3, 3), activation='relu'))\n",
    "    model.add(Conv2D(64, (3, 3), activation='relu'))\n",
    "    model.add(MaxPooling2D(pool_size=(2, 2)))\n",
    "    model.add(Dropout(0.25))\n",
    "    model.add(Flatten())\n",
    "    model.add(Dense(128, activation='relu'))\n",
    "    model.add(Dropout(0.5))\n",
    "    model.add(Dense(17, activation='sigmoid'))\n",
    "\n",
    "    model.compile(loss='binary_crossentropy', # We NEED binary here, since categorical_crossentropy l1 norms the output before calculating loss.\n",
    "                  optimizer='adam',\n",
    "                  metrics=['accuracy'])\n",
    "\n",
    "    model.fit(x_train, y_train,\n",
    "              batch_size=64,\n",
    "              epochs=5,\n",
    "              verbose=1)\n",
    "    return model"
   ]
  },
  {
   "cell_type": "markdown",
   "metadata": {},
   "source": [
    "# Train the model!"
   ]
  },
  {
   "cell_type": "code",
   "execution_count": 5,
   "metadata": {
    "collapsed": false
   },
   "outputs": [
    {
     "name": "stdout",
     "output_type": "stream",
     "text": [
      "processing images...\n",
      "1000 processed\n",
      "2000 processed\n",
      "3000 processed\n",
      "4000 processed\n",
      "5000 processed\n",
      "6000 processed\n",
      "7000 processed\n",
      "8000 processed\n",
      "9000 processed\n",
      "10000 processed\n",
      "11000 processed\n",
      "12000 processed\n",
      "13000 processed\n",
      "14000 processed\n",
      "15000 processed\n",
      "16000 processed\n",
      "17000 processed\n",
      "18000 processed\n",
      "19000 processed\n",
      "20000 processed\n",
      "21000 processed\n",
      "22000 processed\n",
      "23000 processed\n",
      "24000 processed\n",
      "25000 processed\n",
      "26000 processed\n",
      "27000 processed\n",
      "28000 processed\n",
      "29000 processed\n",
      "30000 processed\n",
      "31000 processed\n",
      "32000 processed\n",
      "33000 processed\n",
      "34000 processed\n",
      "35000 processed\n",
      "36000 processed\n",
      "37000 processed\n",
      "38000 processed\n",
      "39000 processed\n",
      "40000 processed\n",
      "(40479, 32, 32, 3) (40479, 17)\n"
     ]
    }
   ],
   "source": [
    "NUM_TRAIN = 40482\n",
    "NUM_SAMPLE = NUM_TRAIN\n",
    "DIM = 32\n",
    "X, y, ind_to_classes = preprocess_cnn(NUM_SAMPLE, DIM, \"../data/train.csv\")\n",
    "print X.shape, y.shape"
   ]
  },
  {
   "cell_type": "code",
   "execution_count": 108,
   "metadata": {
    "collapsed": false
   },
   "outputs": [
    {
     "name": "stdout",
     "output_type": "stream",
     "text": [
      "Using a 20% test set...\n",
      "X shape: (40479, 32, 32, 3)\n",
      "y shape: (40479, 17)\n",
      "Epoch 1/5\n",
      "32383/32383 [==============================] - 78s - loss: 0.2342 - acc: 0.9103    \n",
      "Epoch 2/5\n",
      "32383/32383 [==============================] - 78s - loss: 0.1947 - acc: 0.9237    \n",
      "Epoch 3/5\n",
      "32383/32383 [==============================] - 78s - loss: 0.1844 - acc: 0.9280    \n",
      "Epoch 4/5\n",
      "32383/32383 [==============================] - 77s - loss: 0.1773 - acc: 0.9308    \n",
      "Epoch 5/5\n",
      "32383/32383 [==============================] - 79s - loss: 0.1708 - acc: 0.9336    \n",
      "************************RESULTS************************\n",
      "primary 0.987326887902\n",
      "clear 0.95884620587\n",
      "agriculture 0.812865085509\n",
      "partly_cloudy 0.787007318013\n",
      "road 0.73715675347\n",
      "cloudy 0.670297444491\n",
      "haze 0.609621740727\n",
      "water 0.604987684729\n",
      "habitation 0.571746384872\n",
      "cultivation 0.404491931967\n",
      "artisinal_mine 0.387409200969\n",
      "bare_ground 0.0298329355609\n",
      "slash_burn 0.0\n",
      "conventional_mine 0.0\n",
      "selective_logging 0.0\n",
      "blow_down 0.0\n",
      "blooming 0.0\n",
      "************************END RESULTS************************\n"
     ]
    }
   ],
   "source": [
    "model, cv_f2_scores = cross_validation_train_score(X, y, train_cnn_model_1, calc_F2_score_cnn, 1) #no cross-validation\n",
    "print_results(cv_f2_scores, ind_to_classes)"
   ]
  },
  {
   "cell_type": "code",
   "execution_count": null,
   "metadata": {
    "collapsed": true
   },
   "outputs": [],
   "source": [
    "model, cv_f2_scores = cross_validation_train_score(X, y, train_cnn_model_1, calc_precision_score_cnn, 1) #no cross-validation\n"
   ]
  },
  {
   "cell_type": "code",
   "execution_count": 13,
   "metadata": {
    "collapsed": true
   },
   "outputs": [],
   "source": [
    "X_train, X_test, y_train, y_test = train_test_split(X, y, test_size=0.20, random_state=0) # use the same split"
   ]
  },
  {
   "cell_type": "code",
   "execution_count": 109,
   "metadata": {
    "collapsed": false
   },
   "outputs": [],
   "source": [
    "#save model at a location\n",
    "import datetime\n",
    "def timestamp():\n",
    "    return '{:%m%d_%H_%M_%s}'.format(datetime.datetime.now())\n",
    "\n",
    "fn = \"../data/cnn-1_\" + timestamp() + '.h5'\n",
    "model.save(fn)"
   ]
  },
  {
   "cell_type": "markdown",
   "metadata": {},
   "source": [
    "# Train a better model\n",
    "we will use a deeping network with more validation to train our data"
   ]
  },
  {
   "cell_type": "code",
   "execution_count": 39,
   "metadata": {
    "collapsed": false
   },
   "outputs": [],
   "source": [
    "\n",
    "def train_cnn_model_2(X, y):\n",
    "    model = Sequential()\n",
    "    model.add(BatchNormalization(input_shape=(32, 32, 3)))\n",
    "\n",
    "    model.add(Conv2D(32, (3, 3), padding='same', activation='relu'))\n",
    "    model.add(Conv2D(32, (3, 3), activation='relu'))\n",
    "    model.add(MaxPooling2D(pool_size=2))\n",
    "    model.add(Dropout(0.25))\n",
    "\n",
    "    model.add(Conv2D(64, (3, 3), padding='same', activation='relu'))\n",
    "    model.add(Conv2D(64, (3, 3), activation='relu'))\n",
    "    model.add(MaxPooling2D(pool_size=2))\n",
    "    model.add(Dropout(0.25))\n",
    "\n",
    "    model.add(Conv2D(128, (3, 3), padding='same', activation='relu'))\n",
    "    model.add(Conv2D(128, (3, 3), activation='relu'))\n",
    "    model.add(MaxPooling2D(pool_size=2))\n",
    "    model.add(Dropout(0.25))\n",
    "    model.add(Flatten())\n",
    "    model.add(Dense(256, activation='relu'))\n",
    "    model.add(BatchNormalization())\n",
    "    model.add(Dropout(0.5))\n",
    "    model.add(Dense(17, activation='sigmoid'))\n",
    "\n",
    "    model.compile(loss='binary_crossentropy', # We NEED binary here, since categorical_crossentropy l1 norms the output before calculating loss.\n",
    "                  optimizer='adam',\n",
    "                  metrics=['accuracy'])\n",
    "\n",
    "    X_train, X_valid, Y_train, y_valid = train_test_split(X, y, test_size=0.20, random_state=0)\n",
    "    \n",
    "    model.fit(X_train, Y_train,\n",
    "              batch_size=64,\n",
    "              validation_data=(X_valid, y_valid),\n",
    "              epochs=5,\n",
    "              verbose=1)\n",
    "    return model"
   ]
  },
  {
   "cell_type": "code",
   "execution_count": 40,
   "metadata": {
    "collapsed": false
   },
   "outputs": [
    {
     "name": "stdout",
     "output_type": "stream",
     "text": [
      "Using a 20% test set...\n",
      "X shape: (40479, 32, 32, 3)\n",
      "y shape: (40479, 17)\n",
      "Train on 25906 samples, validate on 6477 samples\n",
      "Epoch 1/5\n",
      "25906/25906 [==============================] - 88s - loss: 0.2755 - acc: 0.9003 - val_loss: 0.2322 - val_acc: 0.9082\n",
      "Epoch 2/5\n",
      "25906/25906 [==============================] - 88s - loss: 0.1711 - acc: 0.9327 - val_loss: 0.1558 - val_acc: 0.9385\n",
      "Epoch 3/5\n",
      "25906/25906 [==============================] - 87s - loss: 0.1627 - acc: 0.9355 - val_loss: 0.1502 - val_acc: 0.9403\n",
      "Epoch 4/5\n",
      "25906/25906 [==============================] - 87s - loss: 0.1555 - acc: 0.9384 - val_loss: 0.1445 - val_acc: 0.9430\n",
      "Epoch 5/5\n",
      "25906/25906 [==============================] - 88s - loss: 0.1496 - acc: 0.9404 - val_loss: 0.1388 - val_acc: 0.9447\n",
      "************************RESULTS************************\n",
      "primary 0.986326584276\n",
      "clear 0.968411143266\n",
      "partly_cloudy 0.887219081759\n",
      "agriculture 0.839625381153\n",
      "cloudy 0.839173736629\n",
      "road 0.754959399733\n",
      "haze 0.709866492999\n",
      "water 0.619363251114\n",
      "habitation 0.599555061179\n",
      "cultivation 0.509683995923\n",
      "artisinal_mine 0.171339563863\n",
      "bare_ground 0.00704225352113\n",
      "slash_burn 0.0\n",
      "conventional_mine 0.0\n",
      "selective_logging 0.0\n",
      "blow_down 0.0\n",
      "blooming 0.0\n",
      "************************END RESULTS************************\n"
     ]
    },
    {
     "name": "stderr",
     "output_type": "stream",
     "text": [
      "/home/luda/cs231a-human-footprint/.env/lib/python2.7/site-packages/sklearn/metrics/classification.py:1113: UndefinedMetricWarning: F-score is ill-defined and being set to 0.0 in labels with no predicted samples.\n",
      "  'precision', 'predicted', average, warn_for)\n"
     ]
    }
   ],
   "source": [
    "model, cv_f2_scores = cross_validation_train_score(X, y, train_cnn_model_2, calc_F2_score_cnn, 1) #no cross-validation\n",
    "print_results(cv_f2_scores, ind_to_classes)"
   ]
  },
  {
   "cell_type": "code",
   "execution_count": 41,
   "metadata": {
    "collapsed": true
   },
   "outputs": [],
   "source": [
    "#save model at a location\n",
    "import datetime\n",
    "def timestamp():\n",
    "    return '{:%m%d_%H_%M_%s}'.format(datetime.datetime.now())\n",
    "\n",
    "fn = \"../data/cnn-2_\" + timestamp() + '.h5'\n",
    "model.save(fn)"
   ]
  },
  {
   "cell_type": "code",
   "execution_count": 1,
   "metadata": {
    "collapsed": false
   },
   "outputs": [
    {
     "name": "stderr",
     "output_type": "stream",
     "text": [
      "Using TensorFlow backend.\n"
     ]
    }
   ],
   "source": [
    "# load model code\n",
    "\n",
    "from keras.models import load_model\n",
    "model = load_model('../data/cnn-2_0530_03_48_1496116132.h5')"
   ]
  },
  {
   "cell_type": "code",
   "execution_count": 14,
   "metadata": {
    "collapsed": false
   },
   "outputs": [
    {
     "name": "stdout",
     "output_type": "stream",
     "text": [
      "************************RESULTS************************\n",
      "primary 0.987607519151\n",
      "clear 0.971716605993\n",
      "partly_cloudy 0.904660168247\n",
      "agriculture 0.835785756327\n",
      "cloudy 0.826171875\n",
      "road 0.752772546558\n",
      "haze 0.729513657562\n",
      "water 0.601987802123\n",
      "habitation 0.589714285714\n",
      "cultivation 0.525946704067\n",
      "artisinal_mine 0.301003344482\n",
      "slash_burn 0.0\n",
      "conventional_mine 0.0\n",
      "selective_logging 0.0\n",
      "blow_down 0.0\n",
      "blooming 0.0\n",
      "bare_ground 0.0\n",
      "************************END RESULTS************************\n"
     ]
    },
    {
     "name": "stderr",
     "output_type": "stream",
     "text": [
      "/home/luda/cs231a-human-footprint/.env/lib/python2.7/site-packages/sklearn/metrics/classification.py:1113: UndefinedMetricWarning: F-score is ill-defined and being set to 0.0 in labels with no predicted samples.\n",
      "  'precision', 'predicted', average, warn_for)\n"
     ]
    }
   ],
   "source": [
    "print_results(calc_F2_score_cnn(X_test, y_test, model, thres = 0.2, avg_mode = None), ind_to_classes)"
   ]
  },
  {
   "cell_type": "code",
   "execution_count": 15,
   "metadata": {
    "collapsed": false
   },
   "outputs": [
    {
     "data": {
      "text/plain": [
       "0.87721270692453734"
      ]
     },
     "execution_count": 15,
     "metadata": {},
     "output_type": "execute_result"
    }
   ],
   "source": [
    "calc_F2_score_cnn(X_test, y_test, model, thres = 0.2, avg_mode = \"samples\")"
   ]
  },
  {
   "cell_type": "code",
   "execution_count": 52,
   "metadata": {
    "collapsed": true
   },
   "outputs": [],
   "source": [
    "#load old model for comparison\n",
    "\n",
    "from keras.models import load_model\n",
    "old_model = load_model('../data/cnn-1_0515_01_45_1494812710.h5')"
   ]
  },
  {
   "cell_type": "code",
   "execution_count": 53,
   "metadata": {
    "collapsed": false
   },
   "outputs": [
    {
     "data": {
      "text/plain": [
       "0.84912731172290057"
      ]
     },
     "execution_count": 53,
     "metadata": {},
     "output_type": "execute_result"
    }
   ],
   "source": [
    "calc_F2_score_cnn(X_test, y_test, old_model, thres = 0.2, avg_mode = \"samples\")"
   ]
  },
  {
   "cell_type": "markdown",
   "metadata": {},
   "source": [
    "# Optimize F2 threshold"
   ]
  },
  {
   "cell_type": "code",
   "execution_count": 16,
   "metadata": {
    "collapsed": true
   },
   "outputs": [],
   "source": [
    "\n",
    "def optimize_threshold(X_test, y_test, model):\n",
    "    prediction = model.predict(X_test)\n",
    "    true_label = y_test\n",
    "    best_threshhold = [0.2]*17    \n",
    "    for t in range(17):\n",
    "        best_fbeta = 0\n",
    "        temp_threshhold = [0.2]*17\n",
    "        for i in range(1000):\n",
    "            temp_value = i / float(1000)\n",
    "            temp_threshhold[t] = temp_value\n",
    "            temp_fbeta = fbeta_score(true_label, prediction > temp_threshhold, beta=2, average=\"samples\")\n",
    "            if temp_fbeta > best_fbeta:\n",
    "                best_fbeta = temp_fbeta\n",
    "                best_threshhold[t] = temp_value\n",
    "        print best_threshhold\n",
    "    return best_threshhold\n",
    "\n",
    "\n",
    "# Using a trained model, calculate the F2_score\n",
    "# input: X_test, y_test, model\n",
    "# output: a list of F2_score by class(length 17)\n",
    "def calc_F2_score_cnn(X_test, y_test, model, thres = 0.2, avg_mode = None, opt = False):\n",
    "    if opt:\n",
    "        print \"Optimizing threshold...\"\n",
    "        thres = optimize_threshold(X_test, y_test, model)\n",
    "        print \"Using optimized threshold: \", thres\n",
    "    predicted = np.array(model.predict(X_test)) > thres\n",
    "    score = fbeta_score(y_test, predicted, beta=2, average=avg_mode)\n",
    "    return score"
   ]
  },
  {
   "cell_type": "code",
   "execution_count": 62,
   "metadata": {
    "collapsed": false
   },
   "outputs": [
    {
     "name": "stdout",
     "output_type": "stream",
     "text": [
      "Optimizing threshold...\n",
      "[0.242, 0.2, 0.2, 0.2, 0.2, 0.2, 0.2, 0.2, 0.2, 0.2, 0.2, 0.2, 0.2, 0.2, 0.2, 0.2, 0.2]\n",
      "[0.242, 0.065, 0.2, 0.2, 0.2, 0.2, 0.2, 0.2, 0.2, 0.2, 0.2, 0.2, 0.2, 0.2, 0.2, 0.2, 0.2]\n",
      "[0.242, 0.065, 0.1, 0.2, 0.2, 0.2, 0.2, 0.2, 0.2, 0.2, 0.2, 0.2, 0.2, 0.2, 0.2, 0.2, 0.2]\n",
      "[0.242, 0.065, 0.1, 0.03, 0.2, 0.2, 0.2, 0.2, 0.2, 0.2, 0.2, 0.2, 0.2, 0.2, 0.2, 0.2, 0.2]\n",
      "[0.242, 0.065, 0.1, 0.03, 0.016, 0.2, 0.2, 0.2, 0.2, 0.2, 0.2, 0.2, 0.2, 0.2, 0.2, 0.2, 0.2]\n",
      "[0.242, 0.065, 0.1, 0.03, 0.016, 0.131, 0.2, 0.2, 0.2, 0.2, 0.2, 0.2, 0.2, 0.2, 0.2, 0.2, 0.2]\n",
      "[0.242, 0.065, 0.1, 0.03, 0.016, 0.131, 0.138, 0.2, 0.2, 0.2, 0.2, 0.2, 0.2, 0.2, 0.2, 0.2, 0.2]\n",
      "[0.242, 0.065, 0.1, 0.03, 0.016, 0.131, 0.138, 0.044, 0.2, 0.2, 0.2, 0.2, 0.2, 0.2, 0.2, 0.2, 0.2]\n",
      "[0.242, 0.065, 0.1, 0.03, 0.016, 0.131, 0.138, 0.044, 0.152, 0.2, 0.2, 0.2, 0.2, 0.2, 0.2, 0.2, 0.2]\n",
      "[0.242, 0.065, 0.1, 0.03, 0.016, 0.131, 0.138, 0.044, 0.152, 0.207, 0.2, 0.2, 0.2, 0.2, 0.2, 0.2, 0.2]\n",
      "[0.242, 0.065, 0.1, 0.03, 0.016, 0.131, 0.138, 0.044, 0.152, 0.207, 0.277, 0.2, 0.2, 0.2, 0.2, 0.2, 0.2]\n",
      "[0.242, 0.065, 0.1, 0.03, 0.016, 0.131, 0.138, 0.044, 0.152, 0.207, 0.277, 0.174, 0.2, 0.2, 0.2, 0.2, 0.2]\n",
      "[0.242, 0.065, 0.1, 0.03, 0.016, 0.131, 0.138, 0.044, 0.152, 0.207, 0.277, 0.174, 0.207, 0.2, 0.2, 0.2, 0.2]\n",
      "[0.242, 0.065, 0.1, 0.03, 0.016, 0.131, 0.138, 0.044, 0.152, 0.207, 0.277, 0.174, 0.207, 0.18, 0.2, 0.2, 0.2]\n",
      "[0.242, 0.065, 0.1, 0.03, 0.016, 0.131, 0.138, 0.044, 0.152, 0.207, 0.277, 0.174, 0.207, 0.18, 0.059, 0.2, 0.2]\n",
      "[0.242, 0.065, 0.1, 0.03, 0.016, 0.131, 0.138, 0.044, 0.152, 0.207, 0.277, 0.174, 0.207, 0.18, 0.059, 0.058, 0.2]\n",
      "[0.242, 0.065, 0.1, 0.03, 0.016, 0.131, 0.138, 0.044, 0.152, 0.207, 0.277, 0.174, 0.207, 0.18, 0.059, 0.058, 0.217]\n",
      "Using optimized threshold:  [0.242, 0.065, 0.1, 0.03, 0.016, 0.131, 0.138, 0.044, 0.152, 0.207, 0.277, 0.174, 0.207, 0.18, 0.059, 0.058, 0.217]\n"
     ]
    },
    {
     "data": {
      "text/plain": [
       "0.8808465190650645"
      ]
     },
     "execution_count": 62,
     "metadata": {},
     "output_type": "execute_result"
    }
   ],
   "source": [
    "calc_F2_score_cnn(X_test, y_test, model, thres = 0.2, avg_mode = \"samples\", opt=True)"
   ]
  },
  {
   "cell_type": "code",
   "execution_count": 64,
   "metadata": {
    "collapsed": false
   },
   "outputs": [
    {
     "name": "stdout",
     "output_type": "stream",
     "text": [
      "************************RESULTS************************\n",
      "primary 0.987683376481\n",
      "clear 0.972594630358\n",
      "partly_cloudy 0.906611680192\n",
      "agriculture 0.8375065401\n",
      "cloudy 0.820165537998\n",
      "road 0.759159594287\n",
      "haze 0.72529782761\n",
      "cultivation 0.593506032647\n",
      "water 0.591663723066\n",
      "habitation 0.590624274774\n",
      "artisinal_mine 0.543209876543\n",
      "bare_ground 0.260469867211\n",
      "selective_logging 0.0326797385621\n",
      "slash_burn 0.0\n",
      "conventional_mine 0.0\n",
      "blow_down 0.0\n",
      "blooming 0.0\n",
      "************************END RESULTS************************\n"
     ]
    }
   ],
   "source": [
    "best_thres = [0.242, 0.065, 0.1, 0.03, 0.016, 0.131, 0.138, 0.044, 0.152, 0.207, 0.277, 0.174, 0.207, 0.18, 0.059, 0.058, 0.217]\n",
    "print_results(calc_F2_score_cnn(X_test, y_test, model, thres = best_thres, avg_mode = None), ind_to_classes)"
   ]
  },
  {
   "cell_type": "markdown",
   "metadata": {},
   "source": [
    "# Add in PHOG features"
   ]
  },
  {
   "cell_type": "code",
   "execution_count": 17,
   "metadata": {
    "collapsed": true
   },
   "outputs": [],
   "source": [
    "'''\n",
    "Code credit: http://www.robots.ox.ac.uk/~vgg/research/caltech/phog.html\n",
    "'''\n",
    "class PHogFeatures():\n",
    "    '''\n",
    "    Computes a PHOG descriptor of an image.\n",
    "    '''\n",
    "\n",
    "    def __init__(self):\n",
    "        pass\n",
    "\n",
    "    def get_features(self, image_path, bins=9, angle=360., pyramid_levels=3):\n",
    "        \"\"\"\n",
    "        Returns a feature vector containing a PHOG descriptor of a whole image.\n",
    "\n",
    "        :param image_path: Absolute path to an image\n",
    "        :param bins: Number of (orientation) bins on the histogram (optimal: 20)\n",
    "        :param angle: 180 or 360 (optimal: 360)\n",
    "        :param pyramid_levels: Number of pyramid levels (optimal: 3)\n",
    "        :return:\n",
    "        \"\"\"\n",
    "\n",
    "        feature_vec = self.phog(image_path, bins, angle, pyramid_levels)\n",
    "        feature_vec = feature_vec.T[0]  # Transpose vector, take the first array\n",
    "        return feature_vec\n",
    "\n",
    "    def phog(self, image_path, bin, angle, pyramid_levels):\n",
    "        \"\"\"\n",
    "        Given and image I, phog computes the Pyramid Histogram of Oriented\n",
    "        Gradients over L pyramid levels and over a Region Of Interest.\n",
    "\n",
    "        :param image_path: Absolute path to an image of size MxN (Color or Gray)\n",
    "        :param bin: Number of (orientation) bins on the histogram\n",
    "        :param angle: 180 or 360\n",
    "        :param pyramid_levels: Number of pyramid levels\n",
    "        :return: Pyramid histogram of oriented gradients\n",
    "        \"\"\"\n",
    "\n",
    "        grayscale_img = cv2.imread(image_path, 0)  # 0 converts it to grayscale\n",
    "\n",
    "        bh = np.array([])\n",
    "        bv = np.array([])\n",
    "        if np.sum(np.sum(grayscale_img)) > 100.:\n",
    "            # Matlab The default sigma is sqrt(2); the size of the filter is chosen automatically, based on sigma.\n",
    "            # Threshold is applied automatically - the percentage is a bit different than in Matlab's implementation:\n",
    "            # low_threshold: 10%\n",
    "            # high_threshold: 20%\n",
    "            edges_canny = feature.canny(grayscale_img, sigma=math.sqrt(2))\n",
    "            [GradientY, GradientX] = np.gradient(np.double(grayscale_img))\n",
    "            GradientYY = np.gradient(GradientY)[1]  # Take only the first matrix\n",
    "            Gr = np.sqrt((GradientX * GradientX + GradientY * GradientY))\n",
    "\n",
    "            index = GradientX == 0.\n",
    "            index = index.astype(int)  # Convert boolean array to an int array\n",
    "            GradientX[np.where(index > 0)] = np.power(10, -5)\n",
    "            YX = GradientY / GradientX\n",
    "\n",
    "            if angle == 180.:\n",
    "                angle_values = np.divide((np.arctan(YX) + np.pi / 2.) * 180., np.pi)\n",
    "            if angle == 360.:\n",
    "                angle_values = np.divide((np.arctan2(GradientY, GradientX) + np.pi) * 180., np.pi)\n",
    "\n",
    "            [bh, bv] = self.bin_matrix(angle_values, edges_canny, Gr, angle, bin)\n",
    "        else:\n",
    "            bh = np.zeros(image_path.shape[0], image_path.shape[1])\n",
    "            bv = np.zeros(image_path.shape[0], image_path.shape[1])\n",
    "\n",
    "        # Don't consider a roi, take the whole image instead\n",
    "        bh_roi = bh\n",
    "        bv_roi = bv\n",
    "        p = self.phog_descriptor(bh_roi, bv_roi, pyramid_levels, bin)\n",
    "\n",
    "        return p\n",
    "\n",
    "    def bin_matrix(self, angle_values, edge_image, gradient_values, angle, bin):\n",
    "        \"\"\"\n",
    "        Computes a Matrix (bm) with the same size of the image where\n",
    "        (i,j) position contains the histogram value for the pixel at position (i,j)\n",
    "        and another matrix (bv) where the position (i,j) contains the gradient\n",
    "        value for the pixel at position (i,j)\n",
    "\n",
    "        :param angle_values: Matrix containing the angle values\n",
    "        :param edge_image: Edge Image\n",
    "        :param gradient_values: Matrix containing the gradient values\n",
    "        :param angle: 180 or 360\n",
    "        :param bin: Number of bins on the histogram\n",
    "        :return: bm - Matrix with the histogram values\n",
    "                bv - Matrix with the gradient values (only for the pixels belonging to and edge)\n",
    "        \"\"\"\n",
    "\n",
    "        # 8-orientations/connectivity structure (Matlab's default is 8 for bwlabel)\n",
    "        structure_8 = [[1, 1, 1],\n",
    "                       [1, 1, 1],\n",
    "                       [1, 1, 1]]\n",
    "\n",
    "        [contorns, n] = ndimage.label(edge_image, structure_8)\n",
    "        X = edge_image.shape[1]\n",
    "        Y = edge_image.shape[0]\n",
    "        bm = np.zeros((Y, X))\n",
    "        bv = np.zeros((Y, X))\n",
    "        nAngle = np.divide(angle, bin)\n",
    "        for i in np.arange(1, n + 1):\n",
    "            [posY, posX] = np.nonzero(contorns == i)\n",
    "            posY = posY + 1\n",
    "            posX = posX + 1\n",
    "            for j in np.arange(1, (posY.shape[0]) + 1):\n",
    "                pos_x = posX[int(j) - 1]\n",
    "                pos_y = posY[int(j) - 1]\n",
    "                b = np.ceil(np.divide(angle_values[int(pos_y) - 1, int(pos_x) - 1], nAngle))\n",
    "                if b == 0.:\n",
    "                    bin = 1.\n",
    "                if gradient_values[int(pos_y) - 1, int(pos_x) - 1] > 0:\n",
    "                    bm[int(pos_y) - 1, int(pos_x) - 1] = b\n",
    "                    bv[int(pos_y) - 1, int(pos_x) - 1] = gradient_values[int(pos_y) - 1, int(pos_x) - 1]\n",
    "\n",
    "        return [bm, bv]\n",
    "\n",
    "    def phog_descriptor(self, bh, bv, pyramid_levels, bin):\n",
    "        \"\"\"\n",
    "        Computes Pyramid Histogram of Oriented Gradient over an image.\n",
    "\n",
    "        :param bh: Matrix of bin histogram values\n",
    "        :param bv: Matrix of gradient values\n",
    "        :param pyramid_levels: Number of pyramid levels\n",
    "        :param bin: Number of bins\n",
    "        :return: Pyramid histogram of oriented gradients (phog descriptor)\n",
    "        \"\"\"\n",
    "\n",
    "        p = np.empty((0, 1), dtype=int)  # dtype=np.float64? # vertical size 0, horizontal 1\n",
    "\n",
    "        for b in np.arange(1, bin + 1):\n",
    "            ind = bh == b\n",
    "            ind = ind.astype(int)  # convert boolean array to int array\n",
    "            sum_ind = np.sum(bv[np.where(ind > 0)])\n",
    "            p = np.append(p, np.array([[sum_ind]]), axis=0)  # append the sum horizontally to empty p array\n",
    "\n",
    "        cella = 1.\n",
    "        for l in np.arange(1, pyramid_levels + 1):  # defines a range (from, to, step)\n",
    "            x = np.fix(np.divide(bh.shape[1], 2. ** l))\n",
    "            y = np.fix(np.divide(bh.shape[0], 2. ** l))\n",
    "            xx = 0.\n",
    "            yy = 0.\n",
    "            while xx + x <= bh.shape[1]:\n",
    "                while yy + y <= bh.shape[0]:\n",
    "                    bh_cella = np.array([])\n",
    "                    bv_cella = np.array([])\n",
    "                    bh_cella = bh[int(yy + 1.) - 1:yy + y, int(xx + 1.) - 1:xx + x]\n",
    "                    bv_cella = bv[int(yy + 1.) - 1:yy + y, int(xx + 1.) - 1:xx + x]\n",
    "\n",
    "                    for b in np.arange(1, bin + 1):\n",
    "                        ind = bh_cella == b\n",
    "                        ind = ind.astype(int)  # convert boolean array to int array\n",
    "                        sum_ind = np.sum(bv_cella[np.where(ind > 0)])\n",
    "                        p = np.append(p, np.array([[sum_ind]]), axis=0)  # append the sum horizontally to p\n",
    "\n",
    "                    yy = yy + y\n",
    "\n",
    "                cella = cella + 1.\n",
    "                yy = 0.\n",
    "                xx = xx + x\n",
    "\n",
    "        if np.sum(p) != 0:\n",
    "            p = np.divide(p, np.sum(p))\n",
    "\n",
    "        return p"
   ]
  },
  {
   "cell_type": "code",
   "execution_count": 19,
   "metadata": {
    "collapsed": true
   },
   "outputs": [],
   "source": [
    "def preprocess_phog(n_samples, rescaled_dim, f_path =\"../data/train.csv\"):\n",
    "    df = pd.read_csv(f_path)\n",
    "    df['split_tags'] = df['tags'].map(lambda row: row.split(\" \"))\n",
    "    lb = MultiLabelBinarizer()\n",
    "    y = lb.fit_transform(df['split_tags'])\n",
    "    y = y[:n_samples]\n",
    "    \n",
    "    features = []\n",
    "    pixels_in_cell = 8\n",
    "    cells_in_block = 2\n",
    "    nbins = 9\n",
    "    \n",
    "    features = []\n",
    "    # for each image, rescale to same dimension and flattern\n",
    "    print \"processing images...\"\n",
    "    count = 0\n",
    "    for name in df.head(n_samples)['image_name'].values:\n",
    "        phog = PHogFeatures()\n",
    "        raw_img = plt.imread('../data/train-jpg/{}.jpg'.format(name))\n",
    "        #print raw_img\n",
    "        raw_img = cv2.resize(im, (0, 0), fx=0.5, fy=0.5)\n",
    "        im_edges = cv2.Canny(raw_img, 10, 100)\n",
    "        phog_feat = phog.get_features('../data/train-jpg/{}.jpg'.format(name))\n",
    "        combined_feat = np.append(hog_feat.reshape(1, -1), raw_img.reshape(1, -1))\n",
    "        features.append(combined_feat.reshape(1, -1))\n",
    "        count+=1\n",
    "        if count % 1000 == 0:\n",
    "            print count, \"processed\"\n",
    "\n",
    "    return np.array(X, np.float16), np.array(y, np.uint8), lb.classes_"
   ]
  },
  {
   "cell_type": "code",
   "execution_count": null,
   "metadata": {
    "collapsed": true
   },
   "outputs": [],
   "source": [
    "NUM_TRAIN = 40482\n",
    "NUM_SAMPLE = NUM_TRAIN\n",
    "DIM = 32\n",
    "X_phog, _, ind_to_classes = preprocess_phog(NUM_SAMPLE, DIM, \"../data/train.csv\")\n",
    "print X_phog.shape, y.shape"
   ]
  },
  {
   "cell_type": "markdown",
   "metadata": {},
   "source": [
    "# Train a model with bigger size(Incomplete)"
   ]
  },
  {
   "cell_type": "code",
   "execution_count": 4,
   "metadata": {
    "collapsed": true
   },
   "outputs": [],
   "source": [
    "def train_cnn_model_3(X, y):\n",
    "    model = Sequential()\n",
    "    model.add(BatchNormalization(input_shape=(64, 64, 3)))\n",
    "\n",
    "    model.add(Conv2D(32, (3, 3), padding='same', activation='relu'))\n",
    "    model.add(Conv2D(32, (3, 3), padding='same', activation='relu'))\n",
    "    model.add(MaxPooling2D(pool_size=2))\n",
    "    model.add(Dropout(0.25))\n",
    "    \n",
    "    model.add(Conv2D(64, (3, 3), padding='same', activation='relu'))\n",
    "    model.add(Conv2D(64, (3, 3), padding='same', activation='relu'))\n",
    "    model.add(MaxPooling2D(pool_size=2))\n",
    "    model.add(Dropout(0.25))\n",
    "\n",
    "    model.add(Conv2D(128, (3, 3), padding='same', activation='relu'))\n",
    "    model.add(Conv2D(128, (3, 3), padding='same', activation='relu'))\n",
    "    model.add(MaxPooling2D(pool_size=2))\n",
    "    model.add(Dropout(0.25))\n",
    "    \n",
    "    model.add(Conv2D(128, (3, 3), padding='same', activation='relu'))\n",
    "    model.add(Conv2D(128, (3, 3), padding='same', activation='relu'))\n",
    "    model.add(MaxPooling2D(pool_size=2))\n",
    "    model.add(Dropout(0.25))\n",
    "    \n",
    "    model.add(Flatten())\n",
    "    model.add(Dense(512, activation='relu'))\n",
    "    model.add(BatchNormalization())\n",
    "    model.add(Dropout(0.5))\n",
    "    model.add(Dense(17, activation='sigmoid'))\n",
    "\n",
    "    model.compile(loss='binary_crossentropy', # We NEED binary here, since categorical_crossentropy l1 norms the output before calculating loss.\n",
    "                  optimizer='adam',\n",
    "                  metrics=['accuracy'])\n",
    "\n",
    "    X_train, X_valid, Y_train, y_valid = train_test_split(X, y, test_size=0.20, random_state=0)\n",
    "    \n",
    "    model.fit(X_train, Y_train,\n",
    "              batch_size=64,\n",
    "              validation_data=(X_valid, y_valid),\n",
    "              epochs=10,\n",
    "              verbose=1)\n",
    "    return model"
   ]
  },
  {
   "cell_type": "code",
   "execution_count": 7,
   "metadata": {
    "collapsed": false
   },
   "outputs": [
    {
     "name": "stdout",
     "output_type": "stream",
     "text": [
      "processing images...\n",
      "1000 processed\n",
      "2000 processed\n",
      "3000 processed\n",
      "4000 processed\n",
      "5000 processed\n",
      "6000 processed\n",
      "7000 processed\n",
      "8000 processed\n",
      "9000 processed\n",
      "10000 processed\n",
      "11000 processed\n",
      "12000 processed\n",
      "13000 processed\n",
      "14000 processed\n",
      "15000 processed\n",
      "16000 processed\n",
      "17000 processed\n",
      "18000 processed\n",
      "19000 processed\n",
      "20000 processed\n",
      "21000 processed\n",
      "22000 processed\n",
      "23000 processed\n",
      "24000 processed\n",
      "25000 processed\n",
      "26000 processed\n",
      "27000 processed\n",
      "28000 processed\n",
      "29000 processed\n",
      "30000 processed\n",
      "31000 processed\n",
      "32000 processed\n",
      "33000 processed\n",
      "34000 processed\n",
      "35000 processed\n",
      "36000 processed\n",
      "37000 processed\n",
      "38000 processed\n",
      "39000 processed\n",
      "40000 processed\n",
      "(40479, 64, 64, 3) (40479, 17)\n"
     ]
    }
   ],
   "source": [
    "NUM_TRAIN = 40482\n",
    "NUM_SAMPLE = NUM_TRAIN\n",
    "DIM = 64\n",
    "X, y, ind_to_classes = preprocess_cnn(NUM_SAMPLE, DIM, \"../data/train.csv\")\n",
    "print X.shape, y.shape"
   ]
  },
  {
   "cell_type": "code",
   "execution_count": null,
   "metadata": {
    "collapsed": false
   },
   "outputs": [],
   "source": [
    "model, cv_f2_scores = cross_validation_train_score(X, y, train_cnn_model_3, calc_F2_score_cnn, 1) #no cross-validation\n",
    "print_results(cv_f2_scores, ind_to_classes)"
   ]
  },
  {
   "cell_type": "code",
   "execution_count": null,
   "metadata": {
    "collapsed": true
   },
   "outputs": [],
   "source": [
    "X_train, X_test, y_train, y_test = train_test_split(X, y, test_size=0.20, random_state=0)\n",
    "calc_F2_score_cnn(X_test, y_test, model, thres = None, avg_mode = \"samples\", opt=True)"
   ]
  },
  {
   "cell_type": "markdown",
   "metadata": {
    "collapsed": true
   },
   "source": [
    "# Visualize Filters"
   ]
  },
  {
   "cell_type": "code",
   "execution_count": 38,
   "metadata": {
    "collapsed": false
   },
   "outputs": [],
   "source": [
    "#load model\n",
    "\n",
    "from keras.models import load_model\n",
    "model = load_model('../data/cnn-2_0530_03_48_1496116132.h5')"
   ]
  },
  {
   "cell_type": "code",
   "execution_count": 23,
   "metadata": {
    "collapsed": false
   },
   "outputs": [
    {
     "name": "stdout",
     "output_type": "stream",
     "text": [
      "Populating the interactive namespace from numpy and matplotlib\n"
     ]
    }
   ],
   "source": [
    "import numpy as np\n",
    "from matplotlib import pyplot as plt\n",
    "\n",
    "%matplotlib inline\n",
    "\n",
    "\n",
    "%pylab inline\n",
    "pylab.rcParams['figure.figsize'] = (20, 20)\n",
    "\n",
    "\n",
    "from vis.utils import utils\n",
    "from vis.visualization import visualize_activation, get_num_filters"
   ]
  },
  {
   "cell_type": "code",
   "execution_count": 10,
   "metadata": {
    "collapsed": false
   },
   "outputs": [
    {
     "name": "stdout",
     "output_type": "stream",
     "text": [
      "0 batch_normalization_7\n",
      "1 conv2d_19\n",
      "2 conv2d_20\n",
      "3 max_pooling2d_10\n",
      "4 dropout_13\n",
      "5 conv2d_21\n",
      "6 conv2d_22\n",
      "7 max_pooling2d_11\n",
      "8 dropout_14\n",
      "9 conv2d_23\n",
      "10 conv2d_24\n",
      "11 max_pooling2d_12\n",
      "12 dropout_15\n",
      "13 flatten_2\n",
      "14 dense_6\n",
      "15 batch_normalization_8\n",
      "16 dropout_16\n",
      "17 dense_7\n"
     ]
    }
   ],
   "source": [
    "for idx, layer in enumerate(model.layers):\n",
    "    print idx, layer.name "
   ]
  },
  {
   "cell_type": "code",
   "execution_count": 5,
   "metadata": {
    "collapsed": false
   },
   "outputs": [
    {
     "name": "stdout",
     "output_type": "stream",
     "text": [
      "Model loaded.\n"
     ]
    }
   ],
   "source": [
    "# import numpy as np\n",
    "# from matplotlib import pyplot as plt\n",
    "\n",
    "# %matplotlib inline\n",
    "\n",
    "# from vis.utils import utils\n",
    "# from vis.utils.vggnet import VGG16\n",
    "# from vis.visualization import visualize_activation, get_num_filters\n",
    "\n",
    "# # Build the VGG16 network with ImageNet weights\n",
    "# model = VGG16(weights='imagenet', include_top=True)\n",
    "# print('Model loaded.')\n",
    "\n",
    "# # The name of the layer we want to visualize\n",
    "# # (see model definition in vggnet.py)\n",
    "# layer_name = 'block1_conv2'\n",
    "# layer_idx = [idx for idx, layer in enumerate(model.layers) if layer.name == layer_name][0]"
   ]
  },
  {
   "cell_type": "code",
   "execution_count": 29,
   "metadata": {
    "collapsed": false
   },
   "outputs": [
    {
     "name": "stdout",
     "output_type": "stream",
     "text": [
      "[ 0  1  2  3  4  5  6  7  8  9 10 11 12 13 14 15 16 17 18 19 20 21 22 23 24\n",
      " 25 26 27 28 29 30 31]\n"
     ]
    }
   ],
   "source": [
    "layer_name = \"conv2d_19\"\n",
    "layer_idx = [idx for idx, layer in enumerate(model.layers) if layer.name == layer_name][0]\n",
    "filters = np.arange(get_num_filters(model.layers[layer_idx]))\n",
    "\n",
    "print filters"
   ]
  },
  {
   "cell_type": "code",
   "execution_count": 30,
   "metadata": {
    "collapsed": false
   },
   "outputs": [
    {
     "name": "stdout",
     "output_type": "stream",
     "text": [
      "Working on filters: [0]\n",
      "Working on filters: [1]\n",
      "Working on filters: [2]\n",
      "Working on filters: [3]\n",
      "Working on filters: [4]\n",
      "Working on filters: [5]\n",
      "Working on filters: [6]\n",
      "Working on filters: [7]\n",
      "Working on filters: [8]\n",
      "Working on filters: [9]\n",
      "Working on filters: [10]\n",
      "Working on filters: [11]\n",
      "Working on filters: [12]\n",
      "Working on filters: [13]\n",
      "Working on filters: [14]\n",
      "Working on filters: [15]\n",
      "Working on filters: [16]\n",
      "Working on filters: [17]\n",
      "Working on filters: [18]\n",
      "Working on filters: [19]\n",
      "Working on filters: [20]\n",
      "Working on filters: [21]\n",
      "Working on filters: [22]\n",
      "Working on filters: [23]\n",
      "Working on filters: [24]\n",
      "Working on filters: [25]\n",
      "Working on filters: [26]\n",
      "Working on filters: [27]\n",
      "Working on filters: [28]\n",
      "Working on filters: [29]\n",
      "Working on filters: [30]\n",
      "Working on filters: [31]\n"
     ]
    },
    {
     "data": {
      "image/png": "[encoded data removed]",
      "text/plain": [
       "<matplotlib.figure.Figure at 0x7fa1b32b5790>"
      ]
     },
     "metadata": {},
     "output_type": "display_data"
    }
   ],
   "source": [
    "# Visualize all filters in this layer.\n",
    "filters = np.arange(get_num_filters(model.layers[layer_idx]))\n",
    "\n",
    "# Generate input image for each filter. Here `text` field is used to overlay `filter_value` on top of the image.\n",
    "vis_images = []\n",
    "for idx in filters[:32]:\n",
    "    img = visualize_activation(model, layer_idx, filter_indices=idx) \n",
    "    #img = utils.draw_text(img, str(idx))\n",
    "    vis_images.append(img)\n",
    "\n",
    "# Generate stitched image palette with 8 cols.\n",
    "stitched = utils.stitch_images(vis_images, cols=4)    \n",
    "plt.axis('off')\n",
    "plt.imshow(stitched)\n",
    "plt.title(layer_name)\n",
    "plt.show()"
   ]
  },
  {
   "cell_type": "code",
   "execution_count": 89,
   "metadata": {
    "collapsed": false
   },
   "outputs": [
    {
     "name": "stdout",
     "output_type": "stream",
     "text": [
      "0.720921\n",
      "agriculture clear habitation primary road\n",
      "Working on filters: [13]\n",
      "0.391934\n",
      "agriculture clear primary road water\n",
      "Working on filters: [13]\n",
      "0.358913\n",
      "agriculture clear primary road\n",
      "Working on filters: [13]\n",
      "0.806069\n",
      "agriculture clear cultivation primary road\n",
      "Working on filters: [13]\n",
      "0.799815\n",
      "agriculture clear habitation primary road water\n",
      "Working on filters: [13]\n",
      "0.523574\n",
      "agriculture clear cultivation primary road\n",
      "Working on filters: [13]\n",
      "0.506509\n",
      "agriculture clear primary road\n",
      "Working on filters: [13]\n",
      "0.0788394\n",
      "agriculture habitation haze primary road\n",
      "Working on filters: [13]\n",
      "0.101245\n",
      "agriculture partly_cloudy primary road\n",
      "Working on filters: [13]\n",
      "0.917392\n",
      "agriculture clear habitation primary road\n",
      "Working on filters: [13]\n"
     ]
    },
    {
     "data": {
      "image/png": "[encoded data removed]",
      "text/plain": [
       "<matplotlib.figure.Figure at 0x7fa177ab5610>"
      ]
     },
     "metadata": {},
     "output_type": "display_data"
    }
   ],
   "source": [
    "import numpy as np\n",
    "import pandas as pd\n",
    "from matplotlib import pyplot as plt\n",
    "\n",
    "from keras.preprocessing.image import img_to_array\n",
    "from keras.applications.imagenet_utils import preprocess_input\n",
    "\n",
    "from vis.utils import utils\n",
    "from vis.utils.vggnet import VGG16\n",
    "from vis.visualization import visualize_saliency\n",
    "\n",
    "# The name of the layer we want to visualize\n",
    "# (see model definition in vggnet.py)\n",
    "layer_name = 'dense_7'\n",
    "layer_idx = [idx for idx, layer in enumerate(model.layers) if layer.name == layer_name][0]\n",
    "\n",
    "n_samples = 100\n",
    "\n",
    "# Read in data\n",
    "f_path =\"../data/train.csv\"\n",
    "df = pd.read_csv(f_path)\n",
    "df['split_tags'] = df['tags'].map(lambda row: row.split(\" \"))\n",
    "lb = MultiLabelBinarizer()\n",
    "y = lb.fit_transform(df['split_tags'])\n",
    "y = y[:n_samples]\n",
    "\n",
    "#seed_img = utils.load_img(path, target_size=(64, 64))\n",
    "#x = np.expand_dims(img_to_array(seed_img), axis=0)\n",
    "#x = preprocess_input(x)   \n",
    "\n",
    "IND = 13 # road\n",
    "\n",
    "heatmaps=[]\n",
    "count = 0\n",
    "for name, tags in df.sample(n_samples)[['image_name', 'tags']].values:\n",
    "    raw_img = plt.imread('../data/train-jpg/{}.jpg'.format(name))\n",
    "\n",
    "    #print raw_img\n",
    "    img = cv2.resize(raw_img, (32, 32), cv2.INTER_LINEAR)[:, :, :3]\n",
    "    # remove dimenions, normalize  \n",
    "    x = np.expand_dims(np.squeeze(np.array(img)) / 255., axis=0)\n",
    "    pred = model.predict(x)[0][IND]\n",
    "    if lb.classes_[IND] in tags: # corrected classified   \n",
    "        print pred\n",
    "        print tags\n",
    "        # Here we are asking it to show attention such that prob of `pred_class` is maximized.\n",
    "        heatmap = visualize_saliency(model, layer_idx, [IND], img)\n",
    "        heatmaps.append(heatmap)\n",
    "        count+=1\n",
    "        if count == 10:    \n",
    "            break\n",
    "\n",
    "plt.axis('off')\n",
    "plt.imshow(utils.stitch_images(heatmaps))\n",
    "plt.title('Saliency map')\n",
    "plt.show()"
   ]
  },
  {
   "cell_type": "code",
   "execution_count": 72,
   "metadata": {
    "collapsed": false
   },
   "outputs": [
    {
     "name": "stdout",
     "output_type": "stream",
     "text": [
      "0 agriculture\n",
      "1 artisinal_mine\n",
      "2 bare_ground\n",
      "3 blooming\n",
      "4 blow_down\n",
      "5 clear\n",
      "6 cloudy\n",
      "7 conventional_mine\n",
      "8 cultivation\n",
      "9 habitation\n",
      "10 haze\n",
      "11 partly_cloudy\n",
      "12 primary\n",
      "13 road\n",
      "14 selective_logging\n",
      "15 slash_burn\n",
      "16 water\n"
     ]
    }
   ],
   "source": [
    "for i, a in enumerate(lb.classes_):\n",
    "    print i, a"
   ]
  },
  {
   "cell_type": "code",
   "execution_count": 88,
   "metadata": {
    "collapsed": false
   },
   "outputs": [
    {
     "name": "stdout",
     "output_type": "stream",
     "text": [
      "Working on filters: [0]\n",
      "Working on filters: [1]\n",
      "Working on filters: [2]\n",
      "Working on filters: [3]\n",
      "Working on filters: [4]\n",
      "Working on filters: [5]\n",
      "Working on filters: [6]\n",
      "Working on filters: [7]\n",
      "Working on filters: [8]\n",
      "Working on filters: [9]\n",
      "Working on filters: [10]\n",
      "Working on filters: [11]\n",
      "Working on filters: [12]\n",
      "Working on filters: [13]\n",
      "Working on filters: [14]\n",
      "Working on filters: [15]\n",
      "Working on filters: [16]\n"
     ]
    },
    {
     "data": {
      "image/png": "[encoded data removed]",
      "text/plain": [
       "<matplotlib.figure.Figure at 0x7fa17c2128d0>"
      ]
     },
     "metadata": {},
     "output_type": "display_data"
    }
   ],
   "source": [
    "from vis.utils import utils\n",
    "from vis.visualization import visualize_activation\n",
    "\n",
    "\n",
    "# The name of the layer we want to visualize\n",
    "# (see model definition in vggnet.py)\n",
    "layer_name = 'dense_7'\n",
    "layer_idx = [idx for idx, layer in enumerate(model.layers) if layer.name == layer_name][0]\n",
    "\n",
    "# Generate three different images of the same output index.\n",
    "vis_images = []\n",
    "for idx in range(17):\n",
    "    img = visualize_activation(model, layer_idx, filter_indices=idx, max_iter=500)\n",
    "    #img = utils.draw_text(img, str(idx))\n",
    "    vis_images.append(img)\n",
    "\n",
    "stitched = utils.stitch_images(vis_images)    \n",
    "plt.axis('off')\n",
    "plt.imshow(stitched)\n",
    "plt.title(layer_name)\n",
    "plt.show()"
   ]
  },
  {
   "cell_type": "code",
   "execution_count": null,
   "metadata": {
    "collapsed": true
   },
   "outputs": [],
   "source": []
  }
 ],
 "metadata": {
  "kernelspec": {
   "display_name": "Python 2",
   "language": "python",
   "name": "python2"
  },
  "language_info": {
   "codemirror_mode": {
    "name": "ipython",
    "version": 2
   },
   "file_extension": ".py",
   "mimetype": "text/x-python",
   "name": "python",
   "nbconvert_exporter": "python",
   "pygments_lexer": "ipython2",
   "version": "2.7.12"
  }
 },
 "nbformat": 4,
 "nbformat_minor": 0
}
